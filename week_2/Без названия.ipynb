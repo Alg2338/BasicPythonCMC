{
 "cells": [
  {
   "cell_type": "code",
   "execution_count": 4,
   "id": "478e0508",
   "metadata": {},
   "outputs": [
    {
     "data": {
      "text/plain": [
       "87528384"
      ]
     },
     "execution_count": 4,
     "metadata": {},
     "output_type": "execute_result"
    }
   ],
   "source": [
    "(round((87539319)**(1/3))**3)"
   ]
  },
  {
   "cell_type": "code",
   "execution_count": 8,
   "id": "8c5ecd69",
   "metadata": {},
   "outputs": [
    {
     "name": "stdout",
     "output_type": "stream",
     "text": [
      "9\n",
      "1\n"
     ]
    }
   ],
   "source": [
    "n = int(input())\n",
    "\n",
    "if n <= 1:\n",
    "    print(0)\n",
    "\n",
    "j = int(n**(1/3)) + 1\n",
    "i = 1\n",
    "\n",
    "pair_count = 0\n",
    "\n",
    "while i <= j:\n",
    "    if i**3 + j**3 == n:\n",
    "        pair_count += 1\n",
    "        i += 1\n",
    "        j -= 1\n",
    "    elif i**3 + j**3 < n:\n",
    "        i += 1\n",
    "    else:\n",
    "        j -= 1\n",
    "\n",
    "print(pair_count)"
   ]
  },
  {
   "cell_type": "code",
   "execution_count": null,
   "id": "920eab3b",
   "metadata": {},
   "outputs": [],
   "source": []
  },
  {
   "cell_type": "code",
   "execution_count": 12,
   "id": "efa2e91c",
   "metadata": {},
   "outputs": [
    {
     "name": "stdout",
     "output_type": "stream",
     "text": [
      "7\n",
      "6\n",
      "5\n",
      "4\n",
      "3\n",
      "2\n",
      "1\n",
      "0\n",
      "6\n"
     ]
    }
   ],
   "source": [
    "x = int(input())\n",
    "max_ = x\n",
    "max2 = max_\n",
    "max2_initialized = False\n",
    "\n",
    "while x:\n",
    "    x = int(input())\n",
    "    if not x:\n",
    "        break\n",
    "    \n",
    "    if x > max_:\n",
    "        max_, max2 = x, max_\n",
    "        max2_initialized = True\n",
    "    elif (not max2_initialized | (x > max2)) & (x < max_):\n",
    "        max2_initialized = True\n",
    "        max2 = x\n",
    "\n",
    "        \n",
    "if max_ == max2:\n",
    "    print(\"NO\")\n",
    "else:\n",
    "    print(max2)"
   ]
  },
  {
   "cell_type": "code",
   "execution_count": null,
   "id": "f4209949",
   "metadata": {},
   "outputs": [],
   "source": []
  },
  {
   "cell_type": "code",
   "execution_count": null,
   "id": "fcddc2c3",
   "metadata": {},
   "outputs": [],
   "source": []
  },
  {
   "cell_type": "code",
   "execution_count": null,
   "id": "f69a950a",
   "metadata": {},
   "outputs": [],
   "source": []
  },
  {
   "cell_type": "code",
   "execution_count": null,
   "id": "8578f590",
   "metadata": {},
   "outputs": [],
   "source": []
  },
  {
   "cell_type": "code",
   "execution_count": null,
   "id": "d3923f5c",
   "metadata": {},
   "outputs": [],
   "source": []
  },
  {
   "cell_type": "code",
   "execution_count": null,
   "id": "a6b80a07",
   "metadata": {},
   "outputs": [],
   "source": []
  },
  {
   "cell_type": "code",
   "execution_count": null,
   "id": "371da9a9",
   "metadata": {},
   "outputs": [],
   "source": []
  }
 ],
 "metadata": {
  "kernelspec": {
   "display_name": "Python 3 (ipykernel)",
   "language": "python",
   "name": "python3"
  },
  "language_info": {
   "codemirror_mode": {
    "name": "ipython",
    "version": 3
   },
   "file_extension": ".py",
   "mimetype": "text/x-python",
   "name": "python",
   "nbconvert_exporter": "python",
   "pygments_lexer": "ipython3",
   "version": "3.9.17"
  }
 },
 "nbformat": 4,
 "nbformat_minor": 5
}
